{
 "cells": [
  {
   "cell_type": "markdown",
   "id": "f341d9ac-d259-4d79-9a48-f8c6cac9a7bc",
   "metadata": {},
   "source": [
    "# Videos"
   ]
  },
  {
   "cell_type": "code",
   "execution_count": 1,
   "id": "12f21a7f-dbdb-46a4-a3da-ff2654b78673",
   "metadata": {},
   "outputs": [],
   "source": [
    "import numpy as np\n",
    "import cv2\n",
    "import matplotlib.pyplot as plt"
   ]
  },
  {
   "cell_type": "code",
   "execution_count": 25,
   "id": "5cae72f9-763e-4880-95fc-46f47f911640",
   "metadata": {},
   "outputs": [],
   "source": [
    "haar = cv2.CascadeClassifier('data/haarcascade_frontalface_default.xml')"
   ]
  },
  {
   "cell_type": "code",
   "execution_count": 26,
   "id": "05c3c19f-9d10-4b01-b106-9c92a1ecaed7",
   "metadata": {},
   "outputs": [],
   "source": [
    "def face_detect(img):\n",
    "    gray = cv2.cvtColor(img, cv2.COLOR_RGB2GRAY)\n",
    "    faces = haar.detectMultiScale(gray, 1.3, 5)\n",
    "\n",
    "    for x, y, w, h in faces:\n",
    "        cv2.rectangle(img, (x,y), (x+w, y+h), (0,255,255), 2)\n",
    "\n",
    "    return img"
   ]
  },
  {
   "cell_type": "code",
   "execution_count": 27,
   "id": "6df0a3a5-2641-4734-829d-72b64ff48d5f",
   "metadata": {},
   "outputs": [],
   "source": [
    "cap = cv2.VideoCapture('data/video_1.mp4')"
   ]
  },
  {
   "cell_type": "code",
   "execution_count": 28,
   "id": "daf99886-c5ff-4e8d-a721-fff469539345",
   "metadata": {},
   "outputs": [],
   "source": [
    "while True:\n",
    "    ret, frame = cap.read()\n",
    "    if ret is False:\n",
    "        break\n",
    "\n",
    "    frame = face_detect(frame)\n",
    "\n",
    "    cv2.imshow('object_detect', frame)\n",
    "    # cv2.imshow('gray', gray)\n",
    "    if cv2.waitKey(40) == 27:\n",
    "        break\n",
    "\n",
    "cv2.destroyAllWindows()\n",
    "cap.release()"
   ]
  },
  {
   "cell_type": "code",
   "execution_count": null,
   "id": "503bd540-f364-4891-806e-95d9ba0a57c3",
   "metadata": {},
   "outputs": [],
   "source": []
  }
 ],
 "metadata": {
  "kernelspec": {
   "display_name": "Python 3 (ipykernel)",
   "language": "python",
   "name": "python3"
  },
  "language_info": {
   "codemirror_mode": {
    "name": "ipython",
    "version": 3
   },
   "file_extension": ".py",
   "mimetype": "text/x-python",
   "name": "python",
   "nbconvert_exporter": "python",
   "pygments_lexer": "ipython3",
   "version": "3.12.11"
  }
 },
 "nbformat": 4,
 "nbformat_minor": 5
}
